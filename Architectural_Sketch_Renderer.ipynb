{
  "nbformat": 4,
  "nbformat_minor": 0,
  "metadata": {
    "accelerator": "GPU",
    "colab": {
      "name": "Architectural Sketch Renderer.ipynb",
      "provenance": [],
      "collapsed_sections": [
        "5mln7r9-3MCc"
      ],
      "toc_visible": true,
      "authorship_tag": "ABX9TyPmgj0Rz2wyF/v/+Cn3ymYl",
      "include_colab_link": true
    },
    "kernelspec": {
      "display_name": "Python 3",
      "name": "python3"
    },
    "widgets": {
      "application/vnd.jupyter.widget-state+json": {
        "dd5f90e59ea84dfb9fd8eb47f0b7fc6d": {
          "model_module": "@jupyter-widgets/controls",
          "model_name": "HBoxModel",
          "state": {
            "_view_name": "HBoxView",
            "_dom_classes": [],
            "_model_name": "HBoxModel",
            "_view_module": "@jupyter-widgets/controls",
            "_model_module_version": "1.5.0",
            "_view_count": null,
            "_view_module_version": "1.5.0",
            "box_style": "",
            "layout": "IPY_MODEL_5c2b49fd25fb4bc8a2e4a541b3dc28d0",
            "_model_module": "@jupyter-widgets/controls",
            "children": [
              "IPY_MODEL_c3efc56326494a52b6a26adf22ccb58a",
              "IPY_MODEL_ee543c88911d4c61a3bb8bd1a48324e7"
            ]
          }
        },
        "5c2b49fd25fb4bc8a2e4a541b3dc28d0": {
          "model_module": "@jupyter-widgets/base",
          "model_name": "LayoutModel",
          "state": {
            "_view_name": "LayoutView",
            "grid_template_rows": null,
            "right": null,
            "justify_content": null,
            "_view_module": "@jupyter-widgets/base",
            "overflow": null,
            "_model_module_version": "1.2.0",
            "_view_count": null,
            "flex_flow": null,
            "width": null,
            "min_width": null,
            "border": null,
            "align_items": null,
            "bottom": null,
            "_model_module": "@jupyter-widgets/base",
            "top": null,
            "grid_column": null,
            "overflow_y": null,
            "overflow_x": null,
            "grid_auto_flow": null,
            "grid_area": null,
            "grid_template_columns": null,
            "flex": null,
            "_model_name": "LayoutModel",
            "justify_items": null,
            "grid_row": null,
            "max_height": null,
            "align_content": null,
            "visibility": null,
            "align_self": null,
            "height": null,
            "min_height": null,
            "padding": null,
            "grid_auto_rows": null,
            "grid_gap": null,
            "max_width": null,
            "order": null,
            "_view_module_version": "1.2.0",
            "grid_template_areas": null,
            "object_position": null,
            "object_fit": null,
            "grid_auto_columns": null,
            "margin": null,
            "display": null,
            "left": null
          }
        },
        "c3efc56326494a52b6a26adf22ccb58a": {
          "model_module": "@jupyter-widgets/controls",
          "model_name": "FloatProgressModel",
          "state": {
            "_view_name": "ProgressView",
            "style": "IPY_MODEL_1086eb507b824d0d904c4b7f32a89738",
            "_dom_classes": [],
            "description": "silhouette loss = 0.013447: 100%",
            "_model_name": "FloatProgressModel",
            "bar_style": "success",
            "max": 50,
            "_view_module": "@jupyter-widgets/controls",
            "_model_module_version": "1.5.0",
            "value": 50,
            "_view_count": null,
            "_view_module_version": "1.5.0",
            "orientation": "horizontal",
            "min": 0,
            "description_tooltip": null,
            "_model_module": "@jupyter-widgets/controls",
            "layout": "IPY_MODEL_f9a4f22ac9644e49a5f620929d4a0528"
          }
        },
        "ee543c88911d4c61a3bb8bd1a48324e7": {
          "model_module": "@jupyter-widgets/controls",
          "model_name": "HTMLModel",
          "state": {
            "_view_name": "HTMLView",
            "style": "IPY_MODEL_ab20d37ca9244535bab7abfeb2f5a31e",
            "_dom_classes": [],
            "description": "",
            "_model_name": "HTMLModel",
            "placeholder": "​",
            "_view_module": "@jupyter-widgets/controls",
            "_model_module_version": "1.5.0",
            "value": " 50/50 [00:01&lt;00:00, 38.15it/s]",
            "_view_count": null,
            "_view_module_version": "1.5.0",
            "description_tooltip": null,
            "_model_module": "@jupyter-widgets/controls",
            "layout": "IPY_MODEL_3b7bedfedb4a495a85d2ddb9962a9775"
          }
        },
        "1086eb507b824d0d904c4b7f32a89738": {
          "model_module": "@jupyter-widgets/controls",
          "model_name": "ProgressStyleModel",
          "state": {
            "_view_name": "StyleView",
            "_model_name": "ProgressStyleModel",
            "description_width": "initial",
            "_view_module": "@jupyter-widgets/base",
            "_model_module_version": "1.5.0",
            "_view_count": null,
            "_view_module_version": "1.2.0",
            "bar_color": null,
            "_model_module": "@jupyter-widgets/controls"
          }
        },
        "f9a4f22ac9644e49a5f620929d4a0528": {
          "model_module": "@jupyter-widgets/base",
          "model_name": "LayoutModel",
          "state": {
            "_view_name": "LayoutView",
            "grid_template_rows": null,
            "right": null,
            "justify_content": null,
            "_view_module": "@jupyter-widgets/base",
            "overflow": null,
            "_model_module_version": "1.2.0",
            "_view_count": null,
            "flex_flow": null,
            "width": null,
            "min_width": null,
            "border": null,
            "align_items": null,
            "bottom": null,
            "_model_module": "@jupyter-widgets/base",
            "top": null,
            "grid_column": null,
            "overflow_y": null,
            "overflow_x": null,
            "grid_auto_flow": null,
            "grid_area": null,
            "grid_template_columns": null,
            "flex": null,
            "_model_name": "LayoutModel",
            "justify_items": null,
            "grid_row": null,
            "max_height": null,
            "align_content": null,
            "visibility": null,
            "align_self": null,
            "height": null,
            "min_height": null,
            "padding": null,
            "grid_auto_rows": null,
            "grid_gap": null,
            "max_width": null,
            "order": null,
            "_view_module_version": "1.2.0",
            "grid_template_areas": null,
            "object_position": null,
            "object_fit": null,
            "grid_auto_columns": null,
            "margin": null,
            "display": null,
            "left": null
          }
        },
        "ab20d37ca9244535bab7abfeb2f5a31e": {
          "model_module": "@jupyter-widgets/controls",
          "model_name": "DescriptionStyleModel",
          "state": {
            "_view_name": "StyleView",
            "_model_name": "DescriptionStyleModel",
            "description_width": "",
            "_view_module": "@jupyter-widgets/base",
            "_model_module_version": "1.5.0",
            "_view_count": null,
            "_view_module_version": "1.2.0",
            "_model_module": "@jupyter-widgets/controls"
          }
        },
        "3b7bedfedb4a495a85d2ddb9962a9775": {
          "model_module": "@jupyter-widgets/base",
          "model_name": "LayoutModel",
          "state": {
            "_view_name": "LayoutView",
            "grid_template_rows": null,
            "right": null,
            "justify_content": null,
            "_view_module": "@jupyter-widgets/base",
            "overflow": null,
            "_model_module_version": "1.2.0",
            "_view_count": null,
            "flex_flow": null,
            "width": null,
            "min_width": null,
            "border": null,
            "align_items": null,
            "bottom": null,
            "_model_module": "@jupyter-widgets/base",
            "top": null,
            "grid_column": null,
            "overflow_y": null,
            "overflow_x": null,
            "grid_auto_flow": null,
            "grid_area": null,
            "grid_template_columns": null,
            "flex": null,
            "_model_name": "LayoutModel",
            "justify_items": null,
            "grid_row": null,
            "max_height": null,
            "align_content": null,
            "visibility": null,
            "align_self": null,
            "height": null,
            "min_height": null,
            "padding": null,
            "grid_auto_rows": null,
            "grid_gap": null,
            "max_width": null,
            "order": null,
            "_view_module_version": "1.2.0",
            "grid_template_areas": null,
            "object_position": null,
            "object_fit": null,
            "grid_auto_columns": null,
            "margin": null,
            "display": null,
            "left": null
          }
        }
      }
    }
  },
  "cells": [
    {
      "cell_type": "markdown",
      "metadata": {
        "id": "view-in-github",
        "colab_type": "text"
      },
      "source": [
        "<a href=\"https://colab.research.google.com/github/nashapir/Vision-Projects/blob/main/Architectural_Sketch_Renderer.ipynb\" target=\"_parent\"><img src=\"https://colab.research.google.com/assets/colab-badge.svg\" alt=\"Open In Colab\"/></a>"
      ]
    },
    {
      "cell_type": "markdown",
      "metadata": {
        "id": "6vpST1FbVMK_"
      },
      "source": [
        "# Mesh Renderer for Architectural Sketch-Based Modeling\n",
        "\n",
        "A reinforcement learning system which uses differntiable rendering to iteratively deform and refine an existing rectilinear mesh until its silhouette resembles that of an input sketch, thus creating a 3D \"block version.\""
      ]
    },
    {
      "cell_type": "markdown",
      "metadata": {
        "id": "5mln7r9-3MCc"
      },
      "source": [
        "## 0. Install and Import modules"
      ]
    },
    {
      "cell_type": "code",
      "metadata": {
        "colab": {
          "base_uri": "https://localhost:8080/"
        },
        "id": "MXFrWEo027ng",
        "outputId": "81c71b7c-0b49-4cb8-8df5-e626acc1ed13"
      },
      "source": [
        "!pip install torch torchvision\n",
        "import os\n",
        "import sys\n",
        "import torch\n",
        "import torch.nn as nn\n",
        "if torch.__version__=='1.6.0+cu101' and sys.platform.startswith('linux'):\n",
        "    !pip install pytorch3d\n",
        "else:\n",
        "    need_pytorch3d=False\n",
        "    try:\n",
        "        import pytorch3d\n",
        "    except ModuleNotFoundError:\n",
        "        need_pytorch3d=True\n",
        "    if need_pytorch3d:\n",
        "        !curl -LO https://github.com/NVIDIA/cub/archive/1.10.0.tar.gz\n",
        "        !tar xzf 1.10.0.tar.gz\n",
        "        os.environ[\"CUB_HOME\"] = os.getcwd() + \"/cub-1.10.0\"\n",
        "        !pip install 'git+https://github.com/facebookresearch/pytorch3d.git@stable'"
      ],
      "execution_count": 1,
      "outputs": [
        {
          "output_type": "stream",
          "text": [
            "Requirement already satisfied: torch in /usr/local/lib/python3.6/dist-packages (1.7.0+cu101)\n",
            "Requirement already satisfied: torchvision in /usr/local/lib/python3.6/dist-packages (0.8.1+cu101)\n",
            "Requirement already satisfied: typing-extensions in /usr/local/lib/python3.6/dist-packages (from torch) (3.7.4.3)\n",
            "Requirement already satisfied: numpy in /usr/local/lib/python3.6/dist-packages (from torch) (1.19.4)\n",
            "Requirement already satisfied: dataclasses in /usr/local/lib/python3.6/dist-packages (from torch) (0.8)\n",
            "Requirement already satisfied: future in /usr/local/lib/python3.6/dist-packages (from torch) (0.16.0)\n",
            "Requirement already satisfied: pillow>=4.1.1 in /usr/local/lib/python3.6/dist-packages (from torchvision) (7.0.0)\n",
            "  % Total    % Received % Xferd  Average Speed   Time    Time     Time  Current\n",
            "                                 Dload  Upload   Total   Spent    Left  Speed\n",
            "100   118  100   118    0     0    627      0 --:--:-- --:--:-- --:--:--   624\n",
            "100  404k    0  404k    0     0   824k      0 --:--:-- --:--:-- --:--:--  824k\n",
            "Collecting git+https://github.com/facebookresearch/pytorch3d.git@stable\n",
            "  Cloning https://github.com/facebookresearch/pytorch3d.git (to revision stable) to /tmp/pip-req-build-iclm8v_3\n",
            "  Running command git clone -q https://github.com/facebookresearch/pytorch3d.git /tmp/pip-req-build-iclm8v_3\n",
            "  Running command git checkout -q 18ce14cd31a2f1c99e16d727e1755156c360453a\n",
            "Requirement already satisfied: torchvision>=0.4 in /usr/local/lib/python3.6/dist-packages (from pytorch3d==0.3.0) (0.8.1+cu101)\n",
            "Collecting fvcore\n",
            "  Downloading https://files.pythonhosted.org/packages/6f/9e/f4cf4f1fc988e0e77fd85611a39e0f51e66161b16f574b64a5069fb11e5c/fvcore-0.1.2.post20210109.tar.gz\n",
            "Requirement already satisfied: numpy in /usr/local/lib/python3.6/dist-packages (from torchvision>=0.4->pytorch3d==0.3.0) (1.19.4)\n",
            "Requirement already satisfied: pillow>=4.1.1 in /usr/local/lib/python3.6/dist-packages (from torchvision>=0.4->pytorch3d==0.3.0) (7.0.0)\n",
            "Requirement already satisfied: torch==1.7.0 in /usr/local/lib/python3.6/dist-packages (from torchvision>=0.4->pytorch3d==0.3.0) (1.7.0+cu101)\n",
            "Collecting yacs>=0.1.6\n",
            "  Downloading https://files.pythonhosted.org/packages/38/4f/fe9a4d472aa867878ce3bb7efb16654c5d63672b86dc0e6e953a67018433/yacs-0.1.8-py3-none-any.whl\n",
            "Collecting pyyaml>=5.1\n",
            "\u001b[?25l  Downloading https://files.pythonhosted.org/packages/64/c2/b80047c7ac2478f9501676c988a5411ed5572f35d1beff9cae07d321512c/PyYAML-5.3.1.tar.gz (269kB)\n",
            "\u001b[K     |████████████████████████████████| 276kB 13.8MB/s \n",
            "\u001b[?25hRequirement already satisfied: tqdm in /usr/local/lib/python3.6/dist-packages (from fvcore->pytorch3d==0.3.0) (4.41.1)\n",
            "Requirement already satisfied: termcolor>=1.1 in /usr/local/lib/python3.6/dist-packages (from fvcore->pytorch3d==0.3.0) (1.1.0)\n",
            "Requirement already satisfied: tabulate in /usr/local/lib/python3.6/dist-packages (from fvcore->pytorch3d==0.3.0) (0.8.7)\n",
            "Collecting iopath>=0.1.2\n",
            "  Downloading https://files.pythonhosted.org/packages/7a/9a/87a281c8cfc0ad1fceb228a4f854d02f19b2c2395476dd573327709b52ae/iopath-0.1.2.tar.gz\n",
            "Requirement already satisfied: dataclasses in /usr/local/lib/python3.6/dist-packages (from torch==1.7.0->torchvision>=0.4->pytorch3d==0.3.0) (0.8)\n",
            "Requirement already satisfied: future in /usr/local/lib/python3.6/dist-packages (from torch==1.7.0->torchvision>=0.4->pytorch3d==0.3.0) (0.16.0)\n",
            "Requirement already satisfied: typing-extensions in /usr/local/lib/python3.6/dist-packages (from torch==1.7.0->torchvision>=0.4->pytorch3d==0.3.0) (3.7.4.3)\n",
            "Collecting portalocker\n",
            "  Downloading https://files.pythonhosted.org/packages/89/a6/3814b7107e0788040870e8825eebf214d72166adf656ba7d4bf14759a06a/portalocker-2.0.0-py2.py3-none-any.whl\n",
            "Building wheels for collected packages: pytorch3d, fvcore, pyyaml, iopath\n",
            "  Building wheel for pytorch3d (setup.py) ... \u001b[?25l\u001b[?25hdone\n",
            "  Created wheel for pytorch3d: filename=pytorch3d-0.3.0-cp36-cp36m-linux_x86_64.whl size=20509247 sha256=724fb6a4c3d8d5a4552423696c3819778567088908e23fa1c54afac0a8ae55e7\n",
            "  Stored in directory: /tmp/pip-ephem-wheel-cache-m90sb80i/wheels/89/69/08/d864f516508b5d943259c6088baa150ebdd3659b5dde4e3571\n",
            "  Building wheel for fvcore (setup.py) ... \u001b[?25l\u001b[?25hdone\n",
            "  Created wheel for fvcore: filename=fvcore-0.1.2.post20210109-cp36-none-any.whl size=40741 sha256=3b247acb69fa50eef25e398ab0337f30387ff4a23cc2fd338a83b575a99a5c70\n",
            "  Stored in directory: /root/.cache/pip/wheels/4c/13/88/f892ab3326d722a0c6ffdf759fb6ac0e4f88bc549bac06c147\n",
            "  Building wheel for pyyaml (setup.py) ... \u001b[?25l\u001b[?25hdone\n",
            "  Created wheel for pyyaml: filename=PyYAML-5.3.1-cp36-cp36m-linux_x86_64.whl size=44621 sha256=64c9973b30171d756e4701bc498e1b801e76479879ef4aad725c5d2f72ccdb33\n",
            "  Stored in directory: /root/.cache/pip/wheels/a7/c1/ea/cf5bd31012e735dc1dfea3131a2d5eae7978b251083d6247bd\n",
            "  Building wheel for iopath (setup.py) ... \u001b[?25l\u001b[?25hdone\n",
            "  Created wheel for iopath: filename=iopath-0.1.2-cp36-none-any.whl size=10508 sha256=801c84cd8711805022a2e4c81d2ac5a17fb947fd2d719e4781f49375e2a4931e\n",
            "  Stored in directory: /root/.cache/pip/wheels/9e/01/e4/1b68f5a2a6b9450ea4246d91840a77e1169f7d4722d76bbc47\n",
            "Successfully built pytorch3d fvcore pyyaml iopath\n",
            "Installing collected packages: pyyaml, yacs, portalocker, iopath, fvcore, pytorch3d\n",
            "  Found existing installation: PyYAML 3.13\n",
            "    Uninstalling PyYAML-3.13:\n",
            "      Successfully uninstalled PyYAML-3.13\n",
            "Successfully installed fvcore-0.1.2.post20210109 iopath-0.1.2 portalocker-2.0.0 pytorch3d-0.3.0 pyyaml-5.3.1 yacs-0.1.8\n"
          ],
          "name": "stdout"
        }
      ]
    },
    {
      "cell_type": "code",
      "metadata": {
        "id": "wD9dIEVr3RU9",
        "colab": {
          "base_uri": "https://localhost:8080/"
        },
        "outputId": "cec50d5a-4c2e-4470-83a3-c49d2179ee8a"
      },
      "source": [
        "import torch\n",
        "from pytorch3d.utils import ico_sphere\n",
        "from tqdm.notebook import tqdm\n",
        "\n",
        "# Util function for loading meshes\n",
        "from pytorch3d.io import load_objs_as_meshes, save_obj, load_obj\n",
        "\n",
        "from pytorch3d.loss import (\n",
        "    chamfer_distance, \n",
        "    mesh_edge_loss, \n",
        "    mesh_laplacian_smoothing, \n",
        "    mesh_normal_consistency,\n",
        ")\n",
        "\n",
        "# Data structures and functions for rendering\n",
        "from pytorch3d.vis.texture_vis import texturesuv_image_matplotlib\n",
        "from pytorch3d.structures import Meshes\n",
        "from pytorch3d.renderer import (\n",
        "    FoVPerspectiveCameras, \n",
        "    look_at_view_transform,\n",
        "    OpenGLPerspectiveCameras, \n",
        "    PointLights, \n",
        "    DirectionalLights, \n",
        "    Materials, \n",
        "    RasterizationSettings, \n",
        "    MeshRenderer, \n",
        "    MeshRasterizer,  \n",
        "    SoftPhongShader,\n",
        "    SoftSilhouetteShader,\n",
        "    SoftPhongShader,\n",
        "    TexturesVertex\n",
        ")\n",
        "\n",
        "# add path for demo utils functions \n",
        "import sys\n",
        "import os\n",
        "from os import path\n",
        "sys.path.append(os.path.abspath(''))\n",
        "\n",
        "# install kornia\n",
        "!pip install git+https://github.com/kornia/kornia\n",
        "import kornia"
      ],
      "execution_count": 2,
      "outputs": [
        {
          "output_type": "stream",
          "text": [
            "** fvcore version of PathManager will be deprecated soon. **\n",
            "** Please migrate to the version in iopath repo. **\n",
            "https://github.com/facebookresearch/iopath \n",
            "\n"
          ],
          "name": "stderr"
        },
        {
          "output_type": "stream",
          "text": [
            "Collecting git+https://github.com/kornia/kornia\n",
            "  Cloning https://github.com/kornia/kornia to /tmp/pip-req-build-f3vact_a\n",
            "  Running command git clone -q https://github.com/kornia/kornia /tmp/pip-req-build-f3vact_a\n",
            "Requirement already satisfied: numpy in /usr/local/lib/python3.6/dist-packages (from kornia==0.4.2+ab3ff67) (1.19.4)\n",
            "Requirement already satisfied: torch>=1.5.1 in /usr/local/lib/python3.6/dist-packages (from kornia==0.4.2+ab3ff67) (1.7.0+cu101)\n",
            "Requirement already satisfied: typing-extensions in /usr/local/lib/python3.6/dist-packages (from torch>=1.5.1->kornia==0.4.2+ab3ff67) (3.7.4.3)\n",
            "Requirement already satisfied: future in /usr/local/lib/python3.6/dist-packages (from torch>=1.5.1->kornia==0.4.2+ab3ff67) (0.16.0)\n",
            "Requirement already satisfied: dataclasses in /usr/local/lib/python3.6/dist-packages (from torch>=1.5.1->kornia==0.4.2+ab3ff67) (0.8)\n",
            "Building wheels for collected packages: kornia\n",
            "  Building wheel for kornia (setup.py) ... \u001b[?25l\u001b[?25hdone\n",
            "  Created wheel for kornia: filename=kornia-0.4.2+ab3ff67-py2.py3-none-any.whl size=238883 sha256=e83eedf8c865ec5e4907a21be9cc7ebd336f74633bc6a925063cc39d566b4966\n",
            "  Stored in directory: /tmp/pip-ephem-wheel-cache-fglsazsp/wheels/5f/8b/92/375714dc479253f78ed777dd105d79f9693448dcfef85c8163\n",
            "Successfully built kornia\n",
            "Installing collected packages: kornia\n",
            "Successfully installed kornia-0.4.2+ab3ff67\n"
          ],
          "name": "stdout"
        }
      ]
    },
    {
      "cell_type": "code",
      "metadata": {
        "colab": {
          "base_uri": "https://localhost:8080/"
        },
        "id": "eShp9V1_YOqq",
        "outputId": "3761f457-d5ea-47fe-93e1-89fbbceec964"
      },
      "source": [
        "import os\n",
        "!pip install torch torchvision\n",
        "import os\n",
        "import sys\n",
        "import torch\n",
        "import torch.nn as nn\n",
        "import matplotlib.pyplot as plt\n",
        "import matplotlib.patches as patches\n",
        "from skimage.io import imread\n",
        "import cv2\n",
        "import numpy as np"
      ],
      "execution_count": 3,
      "outputs": [
        {
          "output_type": "stream",
          "text": [
            "Requirement already satisfied: torch in /usr/local/lib/python3.6/dist-packages (1.7.0+cu101)\n",
            "Requirement already satisfied: torchvision in /usr/local/lib/python3.6/dist-packages (0.8.1+cu101)\n",
            "Requirement already satisfied: typing-extensions in /usr/local/lib/python3.6/dist-packages (from torch) (3.7.4.3)\n",
            "Requirement already satisfied: future in /usr/local/lib/python3.6/dist-packages (from torch) (0.16.0)\n",
            "Requirement already satisfied: dataclasses in /usr/local/lib/python3.6/dist-packages (from torch) (0.8)\n",
            "Requirement already satisfied: numpy in /usr/local/lib/python3.6/dist-packages (from torch) (1.19.4)\n",
            "Requirement already satisfied: pillow>=4.1.1 in /usr/local/lib/python3.6/dist-packages (from torchvision) (7.0.0)\n"
          ],
          "name": "stdout"
        }
      ]
    },
    {
      "cell_type": "code",
      "metadata": {
        "id": "b3Xppykw3YIF",
        "colab": {
          "base_uri": "https://localhost:8080/"
        },
        "outputId": "ca6dddaa-ba72-4aa8-e7b4-6826fa05c3e6"
      },
      "source": [
        "!wget https://raw.githubusercontent.com/facebookresearch/pytorch3d/master/docs/tutorials/utils/plot_image_grid.py\n",
        "from plot_image_grid import image_grid"
      ],
      "execution_count": 4,
      "outputs": [
        {
          "output_type": "stream",
          "text": [
            "--2021-01-11 06:27:03--  https://raw.githubusercontent.com/facebookresearch/pytorch3d/master/docs/tutorials/utils/plot_image_grid.py\n",
            "Resolving raw.githubusercontent.com (raw.githubusercontent.com)... 151.101.0.133, 151.101.64.133, 151.101.128.133, ...\n",
            "Connecting to raw.githubusercontent.com (raw.githubusercontent.com)|151.101.0.133|:443... connected.\n",
            "HTTP request sent, awaiting response... 200 OK\n",
            "Length: 1472 (1.4K) [text/plain]\n",
            "Saving to: ‘plot_image_grid.py’\n",
            "\n",
            "plot_image_grid.py  100%[===================>]   1.44K  --.-KB/s    in 0s      \n",
            "\n",
            "2021-01-11 06:27:03 (37.4 MB/s) - ‘plot_image_grid.py’ saved [1472/1472]\n",
            "\n"
          ],
          "name": "stdout"
        }
      ]
    },
    {
      "cell_type": "code",
      "metadata": {
        "id": "7w1HJIvc4kcY"
      },
      "source": [
        "# GPU Setup\n",
        "if torch.cuda.is_available():\n",
        "    device = torch.device(\"cuda:0\")\n",
        "    torch.cuda.set_device(device)\n",
        "else:\n",
        "    device = torch.device(\"cpu\")"
      ],
      "execution_count": 5,
      "outputs": []
    },
    {
      "cell_type": "markdown",
      "metadata": {
        "id": "veNVhIVu4gGU"
      },
      "source": [
        "# Setup"
      ]
    },
    {
      "cell_type": "markdown",
      "metadata": {
        "id": "JypiIaJpgLm5"
      },
      "source": [
        "### Create source cube mesh\n",
        "Construct and texturize unit cube that will be used as source mesh during rendering (i.e. this is the mesh that will be gradually contorted to match the input illustration). "
      ]
    },
    {
      "cell_type": "code",
      "metadata": {
        "id": "5YxpL2hUDf37"
      },
      "source": [
        "cube_verts = [\n",
        "    [-0.50, 0.50, 0.50],\n",
        "    [-0.50, -0.50, 0.50],\n",
        "    [0.50, -0.50, 0.50],\n",
        "    [0.50, 0.50, 0.50],\n",
        "\n",
        "    [-0.50, 0.50, -0.50],\n",
        "    [-0.50, -0.50, -0.50],\n",
        "    [0.50, -0.50, -0.50],\n",
        "    [0.50, 0.50, -0.50]\n",
        "]\n",
        "\n",
        "cube_faces = [\n",
        "    [0, 1, 2],\n",
        "    [2, 3, 0],\n",
        "    [7, 6, 5],\n",
        "    [4, 7, 5],\n",
        "    [6, 3, 2],\n",
        "    [3, 6, 7],\n",
        "    [4, 5, 0],\n",
        "    [0, 5, 1],\n",
        "    [3, 4, 0],\n",
        "    [4, 3, 7],\n",
        "    [2, 1, 5],\n",
        "    [5, 6, 2],\n",
        "]\n",
        "\n",
        "def Cube(level=0, device = None):\n",
        "    \"\"\"\n",
        "    Create verts and faces for a unit cube, with all faces oriented\n",
        "    consistently.\n",
        "    Args:\n",
        "        level: integer specifying the number of iterations for subdivision\n",
        "                of the mesh faces. Each additional level will result in four new\n",
        "                faces per face.\n",
        "        device: A torch.device object on which the outputs will be allocated.\n",
        "    Returns:\n",
        "        Meshes object with verts and faces.\n",
        "    \"\"\"\n",
        "    if device is None:\n",
        "        device = torch.device(\"cpu\")\n",
        "    if level < 0:\n",
        "        raise ValueError(\"level must be >= 0.\")\n",
        "    if level == 0:\n",
        "        verts = torch.tensor(cube_verts, dtype=torch.float32, device=device)\n",
        "        faces = torch.tensor(cube_faces, dtype=torch.int64, device=device)\n",
        "    else:\n",
        "        mesh = cube(level - 1, device)\n",
        "        subdivide = SubdivideMeshes()\n",
        "        mesh = subdivide(mesh)\n",
        "        verts = mesh.verts_list()[0]\n",
        "        faces = mesh.faces_list()[0]\n",
        "        \n",
        "    return Meshes(verts=[verts], faces=[faces])"
      ],
      "execution_count": 6,
      "outputs": []
    },
    {
      "cell_type": "code",
      "metadata": {
        "id": "dQOH7-yF4nFr"
      },
      "source": [
        "# Load obj file\n",
        "cube = Cube(device=device)\n",
        "\n",
        "# Texture\n",
        "verts = cube.verts_packed()\n",
        "verts_rgb = torch.ones_like(verts)[None] # (1, V, 3)\n",
        "white_texture = TexturesVertex(verts_features=verts_rgb.to(device))\n",
        "cube.textures = white_texture"
      ],
      "execution_count": 7,
      "outputs": []
    },
    {
      "cell_type": "markdown",
      "metadata": {
        "id": "QxpwsyWXfp0X"
      },
      "source": [
        "### Rendering Settings"
      ]
    },
    {
      "cell_type": "code",
      "metadata": {
        "id": "QfZAYRiGkDI0"
      },
      "source": [
        "# R is a 3D rotation matrix (3,3) that is multiplied by the objects coordinates to rotate the object in \n",
        "# three dimensions (so it appears that the camera rotated)\n",
        "# T is a translation vector (1,3) that is added to the object's 3d coordinates to move the object away from \n",
        "# the camera (so it appears the camera is at a distance)\n",
        "IMG_SIZE = 256\n",
        "dist = 3\n",
        "elev = 0\n",
        "azim = 135\n",
        "R, T = look_at_view_transform(dist, elev, azim) \n",
        "\n",
        "# Camera stores info on how to set up a collection (or in our case one) shot of the object. We\n",
        "# pass in the rotation and translation information and leave the rest to default.\n",
        "cameras = FoVPerspectiveCameras(device=device, R=R, T=T)\n",
        "\n",
        "# Setting the rasterization settings\n",
        "raster_settings = RasterizationSettings(\n",
        "    image_size=IMG_SIZE, \n",
        "    blur_radius=0.0, \n",
        "    faces_per_pixel=1, \n",
        ")\n",
        "\n",
        "# Change specular color and material shininess \n",
        "materials = Materials(\n",
        "    device=device,\n",
        "    specular_color=[[0.0, 0.0, 0.0]],\n",
        "    shininess=0\n",
        ")\n",
        "\n",
        "# Place a point light at the objects by setting the location of the light.\n",
        "lights = PointLights(device=device, location=[[10.0, 10.0, 10.0]])"
      ],
      "execution_count": 8,
      "outputs": []
    },
    {
      "cell_type": "code",
      "metadata": {
        "id": "H4OoN7PsJJkM"
      },
      "source": [
        "# Create a renderer object with rasterizer and shader, using settings initialized above\n",
        "rgb_renderer = MeshRenderer(\n",
        "    rasterizer=MeshRasterizer(\n",
        "        cameras=cameras, \n",
        "        raster_settings=raster_settings\n",
        "    ),\n",
        "    shader=SoftPhongShader(\n",
        "        device=device, \n",
        "        cameras=cameras,\n",
        "        lights=lights\n",
        "    )\n",
        ")"
      ],
      "execution_count": 9,
      "outputs": []
    },
    {
      "cell_type": "code",
      "metadata": {
        "id": "FSC1tDs9K7Dx"
      },
      "source": [
        "# Rasterization settings for silhouette rendering  \n",
        "sigma = 1e-4\n",
        "raster_settings_silhouette = RasterizationSettings(\n",
        "    image_size=IMG_SIZE, \n",
        "    blur_radius=np.log(1. / 1e-4 - 1.)*sigma, \n",
        "    faces_per_pixel=50, \n",
        ")\n",
        "\n",
        "# Silhouette renderer \n",
        "renderer_silhouette = MeshRenderer(\n",
        "    rasterizer=MeshRasterizer(\n",
        "        cameras=cameras, \n",
        "        raster_settings=raster_settings_silhouette\n",
        "    ),\n",
        "    shader=SoftSilhouetteShader()\n",
        ")"
      ],
      "execution_count": 10,
      "outputs": []
    },
    {
      "cell_type": "code",
      "metadata": {
        "id": "NMXW9lE1gSAy",
        "colab": {
          "base_uri": "https://localhost:8080/",
          "height": 0
        },
        "outputId": "11b9a872-f40e-4917-dd5b-e858dc6bb4da"
      },
      "source": [
        "# Render the cube\n",
        "rendered_cube = rgb_renderer(cube)\n",
        "plt.figure(figsize=(7, 7))\n",
        "plt.imshow(rendered_cube[0, ..., :3].cpu().numpy())\n",
        "plt.grid(\"off\");\n",
        "plt.axis(\"off\");\n",
        "\n",
        "# Render silhouette images. 3rd channel of the rendering output is \n",
        "# the alpha/silhouette channel\n",
        "cube_silhouette_image = renderer_silhouette(cube, cameras=cameras, lights=lights)\n",
        "cube_silhouette = cube_silhouette_image[0, ..., 3]\n",
        "\n",
        "plt.figure(figsize=(7, 7))\n",
        "plt.imshow(cube_silhouette.cpu().numpy())\n",
        "plt.grid(\"off\");\n",
        "plt.axis(\"off\");\n",
        "\n",
        "target_silhouette = cube_silhouette\n",
        "silhouette_image = rendered_cube[0, ..., :3]"
      ],
      "execution_count": 11,
      "outputs": [
        {
          "output_type": "display_data",
          "data": {
            "image/png": "[encoded data removed]",
            "text/plain": [
              "<Figure size 504x504 with 1 Axes>"
            ]
          },
          "metadata": {
            "tags": [],
            "needs_background": "light"
          }
        },
        {
          "output_type": "display_data",
          "data": {
            "image/png": "[encoded data removed]",
            "text/plain": [
              "<Figure size 504x504 with 1 Axes>"
            ]
          },
          "metadata": {
            "tags": [],
            "needs_background": "light"
          }
        }
      ]
    },
    {
      "cell_type": "markdown",
      "metadata": {
        "id": "TRgdgFBNi_IH"
      },
      "source": [
        "# Input Image\n",
        "The input image can be either a seperate rendering or a sketch. Steps below outline creation of target silhouette from both approaches (note: illustration input can handle multiple objects in a single sketch). "
      ]
    },
    {
      "cell_type": "code",
      "metadata": {
        "id": "CAXjXTUxCfRZ"
      },
      "source": [
        "# Helper function defined for constructing rectilinear mesh from dimensions\n",
        "def create_rectangle_mesh(src_mesh, new_dim):\n",
        "    new_verts = src_mesh.verts_packed().clone()\n",
        "    new_verts[:,0] *= new_dim[0]\n",
        "    new_verts[:,1] *= new_dim[1]\n",
        "    new_verts[:,2] *= new_dim[2]\n",
        "\n",
        "    new_src_mesh = Meshes(verts=[new_verts], faces=[src_mesh.faces_packed()], textures=white_texture)\n",
        "    return new_src_mesh"
      ],
      "execution_count": 12,
      "outputs": []
    },
    {
      "cell_type": "markdown",
      "metadata": {
        "id": "FRWWwVHAFOW1"
      },
      "source": [
        "### i. Seperate Rendering Input"
      ]
    },
    {
      "cell_type": "code",
      "metadata": {
        "colab": {
          "base_uri": "https://localhost:8080/",
          "height": 804
        },
        "id": "uVchA7o4FJkx",
        "outputId": "f5c43231-dd0b-4ec8-bf39-406a33a74851"
      },
      "source": [
        "# Decide dimensions of object\n",
        "manual_dims = [1, 1, 1]\n",
        "manual_object = create_rectangle_mesh(cube, manual_dims)\n",
        "target_image = rgb_renderer(manual_object)[0]\n",
        "\n",
        "# Create target image and silhouette by rendering mesh\n",
        "silhouette_image = renderer_silhouette(manual_object, cameras=cameras, lights=lights)[0]\n",
        "target_silhouette = silhouette_image[..., 3]\n",
        "target_object = manual_object\n",
        "\n",
        "# Show resulting images\n",
        "plt.figure(figsize=(7, 7))\n",
        "plt.imshow(target_image.cpu().numpy())\n",
        "plt.grid(\"off\");\n",
        "plt.axis(\"off\");\n",
        "\n",
        "plt.figure(figsize=(7, 7))\n",
        "plt.imshow(target_silhouette.cpu().numpy())\n",
        "plt.grid(\"off\");\n",
        "plt.axis(\"off\");"
      ],
      "execution_count": 13,
      "outputs": [
        {
          "output_type": "display_data",
          "data": {
            "image/png": "[encoded data removed]",
            "text/plain": [
              "<Figure size 504x504 with 1 Axes>"
            ]
          },
          "metadata": {
            "tags": [],
            "needs_background": "light"
          }
        },
        {
          "output_type": "display_data",
          "data": {
            "image/png": "[encoded data removed]",
            "text/plain": [
              "<Figure size 504x504 with 1 Axes>"
            ]
          },
          "metadata": {
            "tags": [],
            "needs_background": "light"
          }
        }
      ]
    },
    {
      "cell_type": "markdown",
      "metadata": {
        "id": "7NeUz8k4Tu7a"
      },
      "source": [
        "### ii. Sketch Input"
      ]
    },
    {
      "cell_type": "code",
      "metadata": {
        "id": "4_xr61w8fI9I",
        "colab": {
          "base_uri": "https://localhost:8080/",
          "height": 411
        },
        "outputId": "ff9b7160-6731-4022-e743-860952a61184"
      },
      "source": [
        "# Upload image and resize\n",
        "FILEPATH = \"/content/yellow_input_nocolor.jpg\"\n",
        "img_in = cv2.imread(FILEPATH, cv2.IMREAD_COLOR)\n",
        "sketch = cv2.cvtColor(img_in, cv2.COLOR_BGR2RGB)\n",
        "w = sketch.shape[1]\n",
        "h = sketch.shape[0]\n",
        "resized_sketch = cv2.resize(sketch, dsize=(int(sketch.shape[1]/5), int(sketch.shape[0]/5)))\n",
        "img = cv2.cvtColor(resized_sketch, cv2.COLOR_BGR2GRAY)\n",
        "\n",
        "plt.figure(figsize=(7, 7))\n",
        "plt.imshow(sketch)\n",
        "plt.grid(\"off\");\n",
        "plt.axis(\"off\");"
      ],
      "execution_count": 15,
      "outputs": [
        {
          "output_type": "display_data",
          "data": {
            "image/png": "[encoded data removed]",
            "text/plain": [
              "<Figure size 504x504 with 1 Axes>"
            ]
          },
          "metadata": {
            "tags": [],
            "needs_background": "light"
          }
        }
      ]
    },
    {
      "cell_type": "code",
      "metadata": {
        "id": "qjEMnwyzfiAE",
        "colab": {
          "base_uri": "https://localhost:8080/",
          "height": 411
        },
        "outputId": "15751c0f-fad5-47c7-c04e-16634cf07fa4"
      },
      "source": [
        "# Find the silhouette of the input sketch...\n",
        "# Use breadth-first search to find all pixels outside of the sketch's outer lines\n",
        "visited = np.zeros_like(img)\n",
        "result = np.ones_like(img)\n",
        "queue = []\n",
        "cutoff = 230\n",
        "\n",
        "# Start in the corner\n",
        "queue.append((0,0))\n",
        "result[0,0] = 0\n",
        "\n",
        "while len(queue) > 0:\n",
        "  current = queue.pop(0)\n",
        "  current_y = current[0]\n",
        "  current_x = current[1]\n",
        "\n",
        "  # look up \n",
        "  if current_y > 0:\n",
        "    if img[current_y - 1, current_x] > cutoff and visited[current_y - 1, current_x] == 0:\n",
        "      queue.append((current_y - 1, current_x))\n",
        "      result[current_y - 1, current_x] = 0\n",
        "      visited[current_y - 1, current_x] = 1\n",
        "    \n",
        "  # look right\n",
        "  if current_x < img.shape[1] - 1:\n",
        "    if img[current_y, current_x + 1] > cutoff and visited[current_y, current_x + 1] == 0:\n",
        "      queue.append((current_y, current_x + 1))\n",
        "      result[current_y, current_x + 1] = 0\n",
        "      visited[current_y, current_x + 1] = 1\n",
        "\n",
        "  # look down\n",
        "  if current_y < img.shape[0] - 1:\n",
        "    if img[current_y + 1, current_x] > cutoff and visited[current_y + 1, current_x] == 0:\n",
        "      queue.append((current_y + 1, current_x))\n",
        "      result[current_y + 1, current_x] = 0\n",
        "      visited[current_y + 1, current_x] = 1\n",
        "\n",
        "  # look left\n",
        "  if current_x > 0:\n",
        "    if img[current_y, current_x - 1] > cutoff and visited[current_y, current_x - 1] == 0:\n",
        "      queue.append((current_y, current_x - 1))\n",
        "      result[current_y, current_x - 1] = 0\n",
        "      visited[current_y, current_x - 1] = 1\n",
        "\n",
        "# Plot the resulting silhouette(s)\n",
        "plt.figure(figsize=(7, 7))\n",
        "plt.imshow(result)\n",
        "plt.grid(\"off\");\n",
        "plt.axis(\"off\");"
      ],
      "execution_count": 16,
      "outputs": [
        {
          "output_type": "display_data",
          "data": {
            "image/png": "[encoded data removed]",
            "text/plain": [
              "<Figure size 504x504 with 1 Axes>"
            ]
          },
          "metadata": {
            "tags": [],
            "needs_background": "light"
          }
        }
      ]
    },
    {
      "cell_type": "code",
      "metadata": {
        "id": "TxRXYy0U1Vyv"
      },
      "source": [
        "# Helper function for searching around silhouette\n",
        "def define_shape(result, visited, entry):\n",
        "  bottom = top = entry[0]\n",
        "  left = right = entry[1]\n",
        "\n",
        "  # Start at entry\n",
        "  queue = []\n",
        "  queue.append(entry)\n",
        "  \n",
        "  while len(queue) > 0:\n",
        "    current = queue.pop(0)\n",
        "    current_y = current[0]\n",
        "    current_x = current[1]\n",
        "\n",
        "    # look up \n",
        "    if current_y > 0:\n",
        "      if result[current_y - 1, current_x] == 1 and visited[current_y - 1, current_x] == 0:\n",
        "        queue.append((current_y - 1, current_x))\n",
        "        visited[current_y - 1, current_x] = 1\n",
        "        # Check for boundary\n",
        "        if current_y - 1 < top:\n",
        "          top = current_y - 1\n",
        "      \n",
        "    # look right\n",
        "    if current_x < result.shape[1] - 1:\n",
        "      if result[current_y, current_x + 1] == 1 and visited[current_y, current_x + 1] == 0:\n",
        "        queue.append((current_y, current_x + 1))\n",
        "        visited[current_y, current_x + 1] = 1\n",
        "        # Check for boundary\n",
        "        if current_x + 1 > right:\n",
        "          right = current_x + 1\n",
        "\n",
        "    # look down\n",
        "    if current_y < result.shape[0] - 1:\n",
        "      if result[current_y + 1, current_x] == 1 and visited[current_y + 1, current_x] == 0:\n",
        "        queue.append((current_y + 1, current_x))\n",
        "        visited[current_y + 1, current_x] = 1\n",
        "        # Check boundary\n",
        "        if current_y + 1 > bottom:\n",
        "          bottom = current_y + 1\n",
        "\n",
        "    # look left\n",
        "    if current_x > 0:\n",
        "      if result[current_y, current_x - 1] == 1 and visited[current_y, current_x - 1] == 0:\n",
        "        queue.append((current_y, current_x - 1))\n",
        "        visited[current_y, current_x - 1] = 1\n",
        "        if current_x - 1 < left:\n",
        "          left = current_x - 1\n",
        "\n",
        "  x = left\n",
        "  y = top\n",
        "  w = right - left\n",
        "  h = bottom - top\n",
        "\n",
        "  return [(x, y), w, h]"
      ],
      "execution_count": 17,
      "outputs": []
    },
    {
      "cell_type": "code",
      "metadata": {
        "id": "MDHssQRx1hhe"
      },
      "source": [
        "# Conduct a second breadth-first, calling define_shape() one each of the silhouettes\n",
        "# that the search discovers. Result should be a list of bounding boxes around each \n",
        "# of the objects in the input sketch.\n",
        "visited = np.zeros_like(result)\n",
        "queue = []\n",
        "bounding_boxes = []\n",
        "\n",
        "# Start in the corner\n",
        "queue.append((0,0))\n",
        "result[0,0] = 0\n",
        "\n",
        "while len(queue) > 0:\n",
        "  current = queue.pop(0)\n",
        "  current_y = current[0]\n",
        "  current_x = current[1]\n",
        "\n",
        "  # look up \n",
        "  if current_y > 0:\n",
        "    if visited[current_y - 1, current_x] == 0:\n",
        "      visited[current_y - 1, current_x] = 1\n",
        "      if result[current_y - 1, current_x] == 1:\n",
        "        bb = define_shape(result, visited, (current_y - 1, current_x))\n",
        "        if bb[1] > 2 and bb[2] > 2:\n",
        "          bounding_boxes.append(bb)\n",
        "      else:\n",
        "        queue.append((current_y - 1, current_x))\n",
        "\n",
        "    \n",
        "  # look right\n",
        "  if current_x < img.shape[1] - 1:\n",
        "    if visited[current_y, current_x + 1] == 0:\n",
        "      visited[current_y, current_x + 1] = 1\n",
        "      if result[current_y, current_x + 1] == 1:\n",
        "        bb = define_shape(result, visited, (current_y, current_x + 1))\n",
        "        if bb[1] > 2 and bb[2] > 2:\n",
        "          bounding_boxes.append(bb)\n",
        "      else:\n",
        "        queue.append((current_y, current_x + 1))\n",
        "\n",
        "  # look down\n",
        "  if current_y < img.shape[0] - 1:\n",
        "    if visited[current_y + 1, current_x] == 0:\n",
        "      visited[current_y + 1, current_x] = 1\n",
        "      if result[current_y + 1, current_x] == 1:\n",
        "        bb = define_shape(result, visited, (current_y + 1, current_x))\n",
        "        if bb[1] > 2 and bb[2] > 2:\n",
        "          bounding_boxes.append(bb)\n",
        "      else:\n",
        "        queue.append((current_y + 1, current_x))\n",
        "\n",
        "  # look left\n",
        "  if current_x > 0:\n",
        "    if visited[current_y, current_x - 1] == 0:\n",
        "      visited[current_y, current_x - 1] = 1\n",
        "      if result[current_y, current_x - 1] == 1:\n",
        "        bb = define_shape(result, visited, (current_y, current_x - 1))\n",
        "        if bb[1] > 2 and bb[2] > 2:\n",
        "          bounding_boxes.append(bb)\n",
        "      else:\n",
        "        queue.append((current_y, current_x - 1))"
      ],
      "execution_count": 18,
      "outputs": []
    },
    {
      "cell_type": "code",
      "metadata": {
        "colab": {
          "base_uri": "https://localhost:8080/",
          "height": 411
        },
        "id": "R4p-CSnZ1iwB",
        "outputId": "acf1fb1d-3724-4ccd-eec1-060bba47fa57"
      },
      "source": [
        "# Plot the bounding boxes over the orignal input\n",
        "fig,ax = plt.subplots(1, figsize=(7, 7))\n",
        "ax.imshow(resized_sketch)\n",
        "for bb in bounding_boxes:\n",
        "  rect = patches.Rectangle(bb[0],bb[1],bb[2],linewidth=1,edgecolor='red',facecolor='none')\n",
        "  ax.add_patch(rect)\n",
        "plt.grid(\"off\");\n",
        "plt.axis(\"off\");\n",
        "plt.show()"
      ],
      "execution_count": 19,
      "outputs": [
        {
          "output_type": "display_data",
          "data": {
            "image/png": "[encoded data removed]",
            "text/plain": [
              "<Figure size 504x504 with 1 Axes>"
            ]
          },
          "metadata": {
            "tags": [],
            "needs_background": "light"
          }
        }
      ]
    },
    {
      "cell_type": "markdown",
      "metadata": {
        "id": "s5U3h2xenXx1"
      },
      "source": [
        "# Mesh Prediction Via Nerual Rendering"
      ]
    },
    {
      "cell_type": "markdown",
      "metadata": {
        "id": "PEwvgpneoqJh"
      },
      "source": [
        "### Helper Functions and Settings"
      ]
    },
    {
      "cell_type": "code",
      "metadata": {
        "id": "BiqHJSsHoswv"
      },
      "source": [
        "# Show a visualization comparing the rendered predicted mesh to the ground truth mesh\n",
        "def visualize_prediction(predicted_mesh, \n",
        "                         target_image,\n",
        "                         renderer=rgb_renderer, \n",
        "                         silhouette=False):\n",
        "    inds = 3 if silhouette else range(3)\n",
        "    predicted_images = renderer(predicted_mesh)\n",
        "    img_output = predicted_images[0, ..., inds].cpu().detach().numpy()\n",
        "\n",
        "    plt.figure(figsize=(14, 7))\n",
        "    plt.subplot(1, 2, 1)\n",
        "    plt.imshow(target_image.cpu().detach().numpy())\n",
        "    plt.title(\"Input Sketch\")\n",
        "    plt.grid(\"off\");\n",
        "    plt.axis(\"off\");\n",
        "\n",
        "    plt.subplot(1, 2, 2)\n",
        "    plt.title(\"Final Rendering\")\n",
        "    plt.imshow(img_output)\n",
        "    plt.grid(\"off\");\n",
        "    plt.axis(\"off\");\n",
        "\n",
        "    return img_output"
      ],
      "execution_count": 20,
      "outputs": []
    },
    {
      "cell_type": "markdown",
      "metadata": {
        "id": "L3GltMlZzuGD"
      },
      "source": [
        "### Optimizer"
      ]
    },
    {
      "cell_type": "code",
      "metadata": {
        "id": "iWkE5RO1ztoK"
      },
      "source": [
        "def render_crop(target_silhouette, target_image, cube=cube):\n",
        "  # Number of passes through renderer\n",
        "  Niter = 50\n",
        "\n",
        "  # Setup tensor with dimensions and optimizer\n",
        "  new_dim = torch.ones(3, device=device, requires_grad=True)\n",
        "  optimizer = torch.optim.SGD([new_dim], lr=1.0, momentum=0.9)\n",
        "  loss_history = []\n",
        "\n",
        "  loop = tqdm(range(Niter))\n",
        "\n",
        "  for i in loop:\n",
        "      # Initialize optimizer\n",
        "      optimizer.zero_grad()\n",
        "      \n",
        "      # Create new mesh\n",
        "      src_mesh = cube.clone()\n",
        "      new_src_mesh = create_rectangle_mesh(src_mesh, new_dim)\n",
        "\n",
        "      # Calculate silhouette loss\n",
        "      predicted_silhouette_image = renderer_silhouette(new_src_mesh, cameras=cameras, lights=lights)\n",
        "      predicted_silhouette = predicted_silhouette_image[0, ..., 3]\n",
        "      loss_silhouette = ((predicted_silhouette - target_silhouette) ** 2).mean()\n",
        "\n",
        "      # Print the losses\n",
        "      loop.set_description(\"silhouette loss = %.6f\" % loss_silhouette)\n",
        "      loss_history.append(loss_silhouette)\n",
        "\n",
        "      # Optimization step\n",
        "      loss_silhouette.backward()\n",
        "      optimizer.step()\n",
        "\n",
        "  img_output = visualize_prediction(new_src_mesh, target_image=target_image)\n",
        "  return img_output, new_src_mesh"
      ],
      "execution_count": 21,
      "outputs": []
    },
    {
      "cell_type": "code",
      "metadata": {
        "colab": {
          "base_uri": "https://localhost:8080/",
          "height": 452,
          "referenced_widgets": [
            "dd5f90e59ea84dfb9fd8eb47f0b7fc6d",
            "5c2b49fd25fb4bc8a2e4a541b3dc28d0",
            "c3efc56326494a52b6a26adf22ccb58a",
            "ee543c88911d4c61a3bb8bd1a48324e7",
            "1086eb507b824d0d904c4b7f32a89738",
            "f9a4f22ac9644e49a5f620929d4a0528",
            "ab20d37ca9244535bab7abfeb2f5a31e",
            "3b7bedfedb4a495a85d2ddb9962a9775"
          ]
        },
        "id": "zRkUpveH3iUp",
        "outputId": "56d3b500-9192-4035-9653-c36d2ecf8148"
      },
      "source": [
        "output_renderings = []\n",
        "\n",
        "for i, bb in enumerate(bounding_boxes):\n",
        "  coords = bb[0]\n",
        "  w = bb[1]\n",
        "  h = bb[2]\n",
        "\n",
        "  # Setup blank images for targets\n",
        "  target_silhouette = np.zeros([256, 256])\n",
        "  target_image = np.zeros([256, 256, 3], dtype=np.uint8)\n",
        "  target_image.fill(255)\n",
        "\n",
        "  # Retrieve cropped section of silhouette input\n",
        "  crop = result[coords[1]:coords[1]+h, coords[0]:coords[0]+w]\n",
        "  sketch_crop = resized_sketch[coords[1]:coords[1]+h, coords[0]:coords[0]+w]\n",
        "\n",
        "  target_silhouette = torch.from_numpy(target_silhouette).cuda()\n",
        "  target_image = torch.from_numpy(target_image).cuda()\n",
        "\n",
        "  w_scaled = int(w/2)\n",
        "  h_scaled = int(h/2)\n",
        "  w_rad = int(w_scaled/2)\n",
        "  h_rad = int(h_scaled/2)\n",
        "\n",
        "  resized_crop = cv2.resize(crop, dsize=(w_scaled, h_scaled))\n",
        "  resized_crop = torch.from_numpy(resized_crop).cuda()\n",
        "  resized_sketch_crop = cv2.resize(sketch_crop, dsize=(w_scaled, h_scaled))\n",
        "  resized_sketch_crop = torch.from_numpy(resized_sketch_crop).cuda()\n",
        "\n",
        "  target_silhouette[128-h_rad:128-h_rad+h_scaled,128-w_rad:128-w_rad+w_scaled] = resized_crop\n",
        "  target_image[128-h_rad:128-h_rad+h_scaled,128-w_rad:128-w_rad+w_scaled] = resized_sketch_crop\n",
        "\n",
        "  # Fit a mesh to cropped silhouette\n",
        "  img_output, mesh_output = render_crop(target_silhouette, target_image)\n",
        "  cropped_output = img_output[128-h_rad:128-h_rad+h_scaled,128-w_rad:128-w_rad+w_scaled]\n",
        "  output_renderings.append(cropped_output)\n",
        "\n",
        "  final_verts, final_faces = mesh_output.get_mesh_verts_faces(0)\n",
        "  final_obj = os.path.join('./', 'output_' + str(i) + '.obj')\n",
        "  save_obj(final_obj, final_verts, final_faces)\n"
      ],
      "execution_count": 22,
      "outputs": [
        {
          "output_type": "display_data",
          "data": {
            "application/vnd.jupyter.widget-view+json": {
              "model_id": "dd5f90e59ea84dfb9fd8eb47f0b7fc6d",
              "version_minor": 0,
              "version_major": 2
            },
            "text/plain": [
              "HBox(children=(FloatProgress(value=0.0, max=50.0), HTML(value='')))"
            ]
          },
          "metadata": {
            "tags": []
          }
        },
        {
          "output_type": "stream",
          "text": [
            "\n"
          ],
          "name": "stdout"
        },
        {
          "output_type": "display_data",
          "data": {
            "image/png": "[encoded data removed]",
            "text/plain": [
              "<Figure size 1008x504 with 2 Axes>"
            ]
          },
          "metadata": {
            "tags": [],
            "needs_background": "light"
          }
        }
      ]
    },
    {
      "cell_type": "markdown",
      "metadata": {
        "id": "UdBeVVWOYy90"
      },
      "source": [
        "# Reassemble Image\n",
        "Optional last step to create a new image that mimics the input using the meshes created in last step. Only to be used with illustration inputs..."
      ]
    },
    {
      "cell_type": "code",
      "metadata": {
        "colab": {
          "base_uri": "https://localhost:8080/"
        },
        "id": "QY0QZ-zBYs_H",
        "outputId": "40c0f9dd-d42a-4c77-b056-c740f5112bca"
      },
      "source": [
        "# Create canvas for reconstructed image...\n",
        "if len(bounding_boxes) < 2:\n",
        "  print(\"Only one box\")\n",
        "else:\n",
        "  output = np.zeros_like(resized_sketch,  dtype=np.uint8)\n",
        "  output.fill(255)\n",
        "\n",
        "  for i in range(len(bounding_boxes)):\n",
        "    x = bounding_boxes[i][0][0]\n",
        "    y = bounding_boxes[i][0][1]\n",
        "    w = bounding_boxes[i][1]\n",
        "    h = bounding_boxes[i][2]\n",
        "\n",
        "    rend = cv2.resize(output_renderings[i], dsize=(w, h))\n",
        "    output[y:y+h, x:x+w] = rend * 255\n",
        "\n",
        "  plt.figure(figsize=(20, 15))\n",
        "  plt.subplot(1, 2, 1)\n",
        "  plt.imshow(resized_sketch)\n",
        "  plt.title(\"Input Sketch\")\n",
        "  plt.grid(\"off\");\n",
        "  plt.axis(\"off\");\n",
        "\n",
        "  plt.subplot(1, 2, 2)\n",
        "  plt.title(\"Output Rendering\")\n",
        "  plt.imshow(output)\n",
        "  plt.grid(\"off\");\n",
        "  plt.axis(\"off\");"
      ],
      "execution_count": 23,
      "outputs": [
        {
          "output_type": "stream",
          "text": [
            "Only one box\n"
          ],
          "name": "stdout"
        }
      ]
    }
  ]
}